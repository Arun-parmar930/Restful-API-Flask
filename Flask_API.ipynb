{
 "cells": [
  {
   "cell_type": "markdown",
   "id": "d96d2337",
   "metadata": {},
   "source": [
    "1. What is a RESTful API?\n",
    "    - A RESTful API (Representational State Transfer API) is a type of web service that follows a set of architectural principles to enable communication between systems over the internet, typically using HTTP."
   ]
  },
  {
   "cell_type": "markdown",
   "id": "0bb63b81",
   "metadata": {},
   "source": [
    "2. Explain the concept of API specification\n",
    "    - An API specification is a detailed document that defines how an API works, including its endpoints, request/response formats, methods, and authentication. It serves as a contract between the API provider and users, ensuring consistent and predictable integration."
   ]
  },
  {
   "cell_type": "markdown",
   "id": "32189b48",
   "metadata": {},
   "source": [
    "3. What is Flask, and why is it popular for building APIs\n",
    "    - **Flask** is a lightweight Python web framework used to build web applications and APIs quickly. It’s popular because it’s simple, flexible, and easy to extend, making it ideal for small projects or microservices.\n"
   ]
  },
  {
   "cell_type": "markdown",
   "id": "d2e7f8f8",
   "metadata": {},
   "source": [
    "4. What is routing in Flask\n",
    "    - Routing in Flask is the process of defining URL patterns that are linked to specific Python functions. When a user visits a URL, Flask uses routing to call the matching function and return the appropriate response"
   ]
  },
  {
   "cell_type": "markdown",
   "id": "096017ae",
   "metadata": {},
   "source": [
    "5. M How do you create a simple Flask application\n",
    "    - The main HTTP methods are:\n",
    "        - GET – Retrieve data\n",
    "        - POST – Create new data\n",
    "        - PUT – Update existing data\n",
    "        - DELETE – Remove data\n",
    "        - PATCH – Partially update data"
   ]
  },
  {
   "cell_type": "markdown",
   "id": "ee366c2e",
   "metadata": {},
   "source": [
    "6. What are HTTP methods used in RESTful APIs?\n",
    "    - The main HTTP methods are:\n",
    "        - GET – Retrieve data\n",
    "        - POST – Create new data\n",
    "        - PUT – Update existing data\n",
    "        - DELETE – Remove data\n",
    "        - PATCH – Partially update data"
   ]
  },
  {
   "cell_type": "markdown",
   "id": "924515e9",
   "metadata": {},
   "source": [
    "7. What is the purpose of the @app.route() decorator in Flask?\n",
    "    - The @app.route() decorator binds a URL path to a view function, telling Flask what code to run when a specific route is accessed."
   ]
  },
  {
   "cell_type": "markdown",
   "id": "06b2d0f3",
   "metadata": {},
   "source": [
    "8. What is the difference between GET and POST HTTP methods?\n",
    "    - GET retrieves data and appends parameters to the URL (not secure for sensitive data).\n",
    "    - POST sends data in the request body, used for creating or submitting secure information."
   ]
  },
  {
   "cell_type": "markdown",
   "id": "e462be51",
   "metadata": {},
   "source": [
    "9. How do you handle errors in Flask APIs?\n",
    "    - Use Flask’s @app.errorhandler() decorator to catch and respond to specific HTTP errors, e.g., 404 or 500, with custom messages or JSON responses."
   ]
  },
  {
   "cell_type": "markdown",
   "id": "0141f1e5",
   "metadata": {},
   "source": [
    "10. How do you connect Flask to a SQL database?\n",
    "    - Use an ORM like SQLAlchemy or a library like sqlite3. Example with SQLAlchemy:"
   ]
  },
  {
   "cell_type": "markdown",
   "id": "8aa177bd",
   "metadata": {},
   "source": [
    "1. What is the role of Flask-SQLAlchemy?\n",
    "    - Flask-SQLAlchemy integrates SQLAlchemy with Flask, providing an ORM to define database models and interact with databases using Python classes."
   ]
  },
  {
   "cell_type": "markdown",
   "id": "81b6339a",
   "metadata": {},
   "source": [
    " 2. What are Flask blueprints, and how are they useful?\n",
    "    - Blueprints allow you to organize a Flask app into reusable, modular components—useful for large applications with multiple routes or features."
   ]
  },
  {
   "cell_type": "markdown",
   "id": "5603e773",
   "metadata": {},
   "source": [
    "3. What is the purpose of Flask's request object?\n",
    "    - The request object provides access to incoming HTTP request data such as form inputs, JSON payloads, query parameters, and headers."
   ]
  },
  {
   "cell_type": "markdown",
   "id": "9731c63a",
   "metadata": {},
   "source": [
    "4. How do you create a RESTful API endpoint using Flask?\n",
    "    - Define a route using @app.route() and specify the method:\n",
    "\n",
    "  \n",
    "    - @app.route('/api/data', methods=['GET'])\n",
    "    - def get_data():\n",
    "    - return jsonify({\"message\": \"Success\"})\n",
    "    "
   ]
  },
  {
   "cell_type": "markdown",
   "id": "9d9aadf1",
   "metadata": {},
   "source": [
    "5. What is the purpose of Flask's jsonify() function?\n",
    "    - jsonify() formats and returns data as a proper JSON response with the correct content-type header."
   ]
  },
  {
   "cell_type": "markdown",
   "id": "f9c8ca7e",
   "metadata": {},
   "source": [
    "6. Explain Flask’s url_for() function\n",
    "    - url_for() dynamically generates URLs for routes by name, making code more maintainable and less error-pron"
   ]
  },
  {
   "cell_type": "markdown",
   "id": "d6c2785d",
   "metadata": {},
   "source": [
    "7. How does Flask handle static files (CSS, JavaScript, etc.)?\n",
    "    - Flask serves static files from the static/ directory. Access them via /static/<filename> in templates or directly in the browser"
   ]
  },
  {
   "cell_type": "markdown",
   "id": "11f66598",
   "metadata": {},
   "source": [
    "8. What is an API specification, and how does it help in building a Flask API?\n",
    "    - An API specification defines endpoints, request/response formats, and behavior. It helps developers understand, build, and integrate the API consistently"
   ]
  },
  {
   "cell_type": "markdown",
   "id": "f689ba02",
   "metadata": {},
   "source": [
    "9. What are HTTP status codes, and why are they important in a Flask API?\n",
    "    - HTTP status codes (e.g., 200, 404, 500) indicate the result of a request. They help clients handle responses correctly and debug errors"
   ]
  },
  {
   "cell_type": "markdown",
   "id": "9074469b",
   "metadata": {},
   "source": [
    "10. How do you handle POST requests in Flask? \n",
    "    - To handle POST requests in Flask, define a route that accepts the POST method and use the request object to access submitted data such as form inputs or JSON payloads"
   ]
  },
  {
   "cell_type": "markdown",
   "id": "cf0f47b9",
   "metadata": {},
   "source": [
    "11. How would you secure a Flask API?\n",
    "    - Use authentication (e.g., JWT or OAuth), HTTPS, input validation, rate limiting, and access control to secure the API"
   ]
  },
  {
   "cell_type": "markdown",
   "id": "cbeabaff",
   "metadata": {},
   "source": [
    "12. What is the significance of the Flask-RESTful extension?\n",
    "    - Flask-RESTful simplifies building REST APIs with Flask by providing a Resource class, cleaner routing, request parsing, and error handling"
   ]
  },
  {
   "cell_type": "markdown",
   "id": "ce2d3e8a",
   "metadata": {},
   "source": [
    "13. What is the role of Flask’s session object?\n",
    "    - The session object stores data across requests for a user, like login status. Data is stored client-side (cookie) but cryptographically signed"
   ]
  },
  {
   "cell_type": "markdown",
   "id": "1b15c731",
   "metadata": {},
   "source": [
    "# Practical\n"
   ]
  },
  {
   "cell_type": "code",
   "execution_count": 1,
   "id": "92601622",
   "metadata": {},
   "outputs": [
    {
     "name": "stdout",
     "output_type": "stream",
     "text": [
      " * Serving Flask app '__main__'\n",
      " * Debug mode: off\n"
     ]
    },
    {
     "name": "stderr",
     "output_type": "stream",
     "text": [
      "WARNING: This is a development server. Do not use it in a production deployment. Use a production WSGI server instead.\n",
      " * Running on http://127.0.0.1:5000\n",
      "Press CTRL+C to quit\n"
     ]
    }
   ],
   "source": [
    "#1 How do you create a basic Flask application?\n",
    "\n",
    "from flask import Flask\n",
    "app = Flask(__name__)\n",
    "\n",
    "@app.route('/')\n",
    "def home():\n",
    "    return \"Hello, Flask!\"\n",
    "\n",
    "if __name__ == '__main__':\n",
    "    app.run()\n"
   ]
  },
  {
   "cell_type": "code",
   "execution_count": 2,
   "id": "92ad7c87",
   "metadata": {},
   "outputs": [
    {
     "name": "stdout",
     "output_type": "stream",
     "text": [
      " * Serving Flask app '__main__'\n",
      " * Debug mode: off\n"
     ]
    },
    {
     "name": "stderr",
     "output_type": "stream",
     "text": [
      "WARNING: This is a development server. Do not use it in a production deployment. Use a production WSGI server instead.\n",
      " * Running on http://127.0.0.1:5000\n",
      "Press CTRL+C to quit\n"
     ]
    }
   ],
   "source": [
    "#2 How do you serve static files like images or CSS in Flask?\n",
    "\n",
    "from flask import Flask, url_for\n",
    "\n",
    "app = Flask(__name__)\n",
    "\n",
    "@app.route('/')\n",
    "def home():\n",
    "    # Example HTML referencing a static CSS file\n",
    "    return '''\n",
    "    <html>\n",
    "      <head>\n",
    "        <link rel=\"stylesheet\" href=\"''' + url_for('static', filename='style.css') + '''\">\n",
    "      </head>\n",
    "      <body>\n",
    "        <h1>Hello, Flask!</h1>\n",
    "        <img src=\"''' + url_for('static', filename='logo.png') + '''\" alt=\"Logo\">\n",
    "      </body>\n",
    "    </html>\n",
    "    '''\n",
    "\n",
    "if __name__ == '__main__':\n",
    "    app.run()\n"
   ]
  },
  {
   "cell_type": "code",
   "execution_count": 3,
   "id": "8415d406",
   "metadata": {},
   "outputs": [],
   "source": [
    "#3 How do you define different routes with different HTTP methods in Flask?\n",
    "\n",
    "from flask import Flask, request\n",
    "app = Flask(__name__)\n",
    "\n",
    "@app.route('/data', methods=['GET', 'POST'])\n",
    "def data():\n",
    "    if request.method == 'POST':\n",
    "        return \"POST received\"\n",
    "    else:\n",
    "        return \"GET received\"\n"
   ]
  },
  {
   "cell_type": "code",
   "execution_count": 4,
   "id": "c096dc79",
   "metadata": {},
   "outputs": [],
   "source": [
    "#4 How do you render HTML templates in Flask?\n",
    "\n",
    "from flask import Flask, render_template\n",
    "app = Flask(__name__)\n",
    "\n",
    "@app.route('/')\n",
    "def home():\n",
    "    return render_template('index.html')\n"
   ]
  },
  {
   "cell_type": "code",
   "execution_count": 5,
   "id": "d49793de",
   "metadata": {},
   "outputs": [
    {
     "name": "stdout",
     "output_type": "stream",
     "text": [
      "/\n",
      "/user/Alice\n"
     ]
    }
   ],
   "source": [
    "# 5. How can you generate URLs for routes in Flask using url_for?\n",
    "\n",
    "from flask import Flask, url_for\n",
    "\n",
    "app = Flask(__name__)\n",
    "\n",
    "@app.route('/')\n",
    "def home():\n",
    "    return \"Home Page\"\n",
    "\n",
    "@app.route('/user/<username>')\n",
    "def profile(username):\n",
    "    return f\"User: {username}\"\n",
    "\n",
    "with app.test_request_context():\n",
    "    print(url_for('home'))               # Output: '/'\n",
    "    print(url_for('profile', username='Alice'))  # Output: '/user/Alice'\n",
    "\n"
   ]
  },
  {
   "cell_type": "code",
   "execution_count": 6,
   "id": "7cd29a70",
   "metadata": {},
   "outputs": [],
   "source": [
    "#6 How do you handle forms in Flask?\n",
    "\n",
    "from flask import Flask, request\n",
    "app = Flask(__name__)\n",
    "\n",
    "@app.route('/submit', methods=['POST'])\n",
    "def submit():\n",
    "    username = request.form.get('username')\n",
    "    return f\"Hello, {username}\"\n"
   ]
  },
  {
   "cell_type": "code",
   "execution_count": 16,
   "id": "ad6b3863",
   "metadata": {},
   "outputs": [],
   "source": [
    "#7 How can you validate form data in Flask?\n",
    "\n",
    "# Use WTForms or validate manually like this:\n",
    "from flask import request\n",
    "\n",
    "@app.route('/submit', methods=['POST'])\n",
    "def submit():\n",
    "    username = request.form.get('username')\n",
    "    if not username:\n",
    "        return \"Username is required\", 400\n",
    "    return f\"Hello, {username}\"\n"
   ]
  },
  {
   "cell_type": "code",
   "execution_count": 8,
   "id": "7f8d71e4",
   "metadata": {},
   "outputs": [],
   "source": [
    "#8 How do you manage sessions in Flask?\n",
    "\n",
    "from flask import Flask, session\n",
    "app = Flask(__name__)\n",
    "app.secret_key = 'your_secret_key'\n",
    "\n",
    "@app.route('/set/')\n",
    "def set_session():\n",
    "    session['user'] = 'Alice'\n",
    "    return \"Session set!\"\n",
    "\n",
    "@app.route('/get/')\n",
    "def get_session():\n",
    "    return session.get('user', 'Not logged in')\n"
   ]
  },
  {
   "cell_type": "code",
   "execution_count": 9,
   "id": "e3940c23",
   "metadata": {},
   "outputs": [],
   "source": [
    "#9 How do you redirect to a different route in Flask?\n",
    "\n",
    "from flask import Flask, redirect, url_for\n",
    "app = Flask(__name__)\n",
    "\n",
    "@app.route('/')\n",
    "def home():\n",
    "    return redirect(url_for('login'))\n",
    "\n",
    "@app.route('/login')\n",
    "def login():\n",
    "    return \"Login Page\"\n"
   ]
  },
  {
   "cell_type": "code",
   "execution_count": 10,
   "id": "58737ee7",
   "metadata": {},
   "outputs": [],
   "source": [
    "#10 How do you handle errors in Flask (e.g., 404)?\n",
    "\n",
    "from flask import Flask, jsonify\n",
    "\n",
    "app = Flask(__name__)\n",
    "\n",
    "@app.errorhandler(404)\n",
    "def not_found(error):\n",
    "    return jsonify({\"error\": \"Not found\"}), 404\n"
   ]
  },
  {
   "cell_type": "code",
   "execution_count": 11,
   "id": "58bbaeaf",
   "metadata": {},
   "outputs": [],
   "source": [
    "#11 How do you structure a Flask app using Blueprints?\n",
    "\n",
    "from flask import Flask, Blueprint\n",
    "\n",
    "bp = Blueprint('bp', __name__)\n",
    "\n",
    "@bp.route('/hello')\n",
    "def hello():\n",
    "    return \"Hello from Blueprint!\"\n",
    "\n",
    "app = Flask(__name__)\n",
    "app.register_blueprint(bp, url_prefix='/bp')\n"
   ]
  },
  {
   "cell_type": "code",
   "execution_count": 12,
   "id": "1c6917d0",
   "metadata": {},
   "outputs": [],
   "source": [
    "#12 How do you define a custom Jinja filter in Flask?\n",
    "\n",
    "@app.template_filter('reverse')\n",
    "def reverse_filter(s):\n",
    "    return s[::-1]\n",
    "\n",
    "# Usage in template: {{ 'hello'|reverse }} -> 'olleh'\n"
   ]
  },
  {
   "cell_type": "code",
   "execution_count": 13,
   "id": "21b32af3",
   "metadata": {},
   "outputs": [],
   "source": [
    "#13 How can you redirect with query parameters in Flask?\n",
    "\n",
    "from flask import redirect, url_for\n",
    "\n",
    "@app.route('/go')\n",
    "def go():\n",
    "    return redirect(url_for('search', q='flask'))\n",
    "\n",
    "@app.route('/search')\n",
    "def search():\n",
    "    q = request.args.get('q')\n",
    "    return f\"Search query: {q}\"\n"
   ]
  },
  {
   "cell_type": "code",
   "execution_count": 14,
   "id": "e457d066",
   "metadata": {},
   "outputs": [],
   "source": [
    "#14 How do you return JSON responses in Flask?\n",
    "\n",
    "from flask import jsonify\n",
    "\n",
    "@app.route('/api/data')\n",
    "def api_data():\n",
    "    return jsonify({\"name\": \"Flask\", \"type\": \"framework\"})\n"
   ]
  },
  {
   "cell_type": "code",
   "execution_count": 15,
   "id": "8535a3c8",
   "metadata": {},
   "outputs": [],
   "source": [
    "#15 How do you capture URL parameters in Flask?\n",
    "\n",
    "@app.route('/user/<username>')\n",
    "def profile(username):\n",
    "    return f\"User: {username}\"\n"
   ]
  },
  {
   "cell_type": "code",
   "execution_count": null,
   "id": "493f64f6",
   "metadata": {},
   "outputs": [],
   "source": []
  }
 ],
 "metadata": {
  "kernelspec": {
   "display_name": "base",
   "language": "python",
   "name": "python3"
  },
  "language_info": {
   "codemirror_mode": {
    "name": "ipython",
    "version": 3
   },
   "file_extension": ".py",
   "mimetype": "text/x-python",
   "name": "python",
   "nbconvert_exporter": "python",
   "pygments_lexer": "ipython3",
   "version": "3.12.7"
  }
 },
 "nbformat": 4,
 "nbformat_minor": 5
}
